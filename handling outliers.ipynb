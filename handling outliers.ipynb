{
 "cells": [
  {
   "cell_type": "markdown",
   "id": "c9df734d-2d4e-413c-b372-3141a7d963e9",
   "metadata": {},
   "source": [
    "Handling Outliers"
   ]
  },
  {
   "cell_type": "markdown",
   "id": "3966cbbf-eba0-4473-aba6-1809049c1c5a",
   "metadata": {},
   "source": [
    "## 5 number Summary\n",
    "1. Minimum Value\n",
    "2. Q1- 25 percentile\n",
    "3. Median\n",
    "4. Q3- 75 percentile\n",
    "5. MAximum"
   ]
  },
  {
   "cell_type": "code",
   "execution_count": 33,
   "id": "85f8ae2b-d486-4bb9-a7da-3ad14748a032",
   "metadata": {},
   "outputs": [],
   "source": [
    "import numpy as np\n",
    "lst_marks = [45,32,56,75,89,54,32,89,90,87,67,54,45,98,67,74, 1000, 1100]"
   ]
  },
  {
   "cell_type": "code",
   "execution_count": 34,
   "id": "c287caba-8340-43bf-82c0-0d43141a93d0",
   "metadata": {},
   "outputs": [
    {
     "name": "stdout",
     "output_type": "stream",
     "text": [
      "[54.]\n"
     ]
    }
   ],
   "source": [
    "## [we create a range between lower fence and higher fence]\n",
    "Q1 = np.percentile(lst_marks,[25])\n",
    "print(Q1)"
   ]
  },
  {
   "cell_type": "code",
   "execution_count": 35,
   "id": "99054fce-f2b2-45c6-a6ad-c6ac05e547d1",
   "metadata": {},
   "outputs": [
    {
     "data": {
      "text/plain": [
       "array([1100.])"
      ]
     },
     "execution_count": 35,
     "metadata": {},
     "output_type": "execute_result"
    }
   ],
   "source": [
    "np.percentile(lst_marks, [100])"
   ]
  },
  {
   "cell_type": "code",
   "execution_count": 36,
   "id": "b8c27a41-3f06-4aff-b865-17d28090fe6e",
   "metadata": {},
   "outputs": [],
   "source": [
    "#inbuild function \"Quantile\" which is used to find % number summary\n",
    "minimum, Q1 , Q2,Q3, maximum = np.quantile(lst_marks, [0,0.25,0.50,0.75,1.0])"
   ]
  },
  {
   "cell_type": "code",
   "execution_count": 37,
   "id": "ba0ff7e2-566f-4f95-877c-6c4c1ae5766a",
   "metadata": {},
   "outputs": [
    {
     "data": {
      "text/plain": [
       "1100.0"
      ]
     },
     "execution_count": 37,
     "metadata": {},
     "output_type": "execute_result"
    }
   ],
   "source": [
    "maximum"
   ]
  },
  {
   "cell_type": "code",
   "execution_count": 38,
   "id": "55f3538c-76bc-4214-8d3e-2e323f7b7577",
   "metadata": {},
   "outputs": [
    {
     "data": {
      "text/plain": [
       "54.0"
      ]
     },
     "execution_count": 38,
     "metadata": {},
     "output_type": "execute_result"
    }
   ],
   "source": [
    "Q1"
   ]
  },
  {
   "cell_type": "code",
   "execution_count": 39,
   "id": "afd07d28-aa17-4bc5-b266-5b3adb27b0a9",
   "metadata": {},
   "outputs": [
    {
     "data": {
      "text/plain": [
       "89.0"
      ]
     },
     "execution_count": 39,
     "metadata": {},
     "output_type": "execute_result"
    }
   ],
   "source": [
    "Q3"
   ]
  },
  {
   "cell_type": "code",
   "execution_count": 40,
   "id": "a1e2c876-7ad7-4bc9-b9a9-b58884c95b19",
   "metadata": {},
   "outputs": [
    {
     "name": "stdout",
     "output_type": "stream",
     "text": [
      "35.0\n"
     ]
    }
   ],
   "source": [
    "IQR = Q3 - Q1 ##(inter Quantile Range)\n",
    "print(IQR)"
   ]
  },
  {
   "cell_type": "code",
   "execution_count": 43,
   "id": "a1c2d558-1a33-4c2b-a870-e24707cf4cb3",
   "metadata": {},
   "outputs": [],
   "source": [
    "lower_fence = Q1 - 1.5*(IQR)\n",
    "higher_fence = Q3 + 1.5*(IQR)"
   ]
  },
  {
   "cell_type": "code",
   "execution_count": 44,
   "id": "c199cc12-6005-4196-ade3-d075db200039",
   "metadata": {},
   "outputs": [
    {
     "data": {
      "text/plain": [
       "(1.5, 141.5)"
      ]
     },
     "execution_count": 44,
     "metadata": {},
     "output_type": "execute_result"
    }
   ],
   "source": [
    "lower_fence, higher_fence"
   ]
  },
  {
   "cell_type": "code",
   "execution_count": 46,
   "id": "d0453c87-189f-4682-b424-6572ae146306",
   "metadata": {},
   "outputs": [
    {
     "name": "stdout",
     "output_type": "stream",
     "text": [
      "This element is not an outlier \n",
      "This element is not an outlier \n",
      "This element is not an outlier \n",
      "This element is not an outlier \n",
      "This element is not an outlier \n",
      "This element is not an outlier \n",
      "This element is not an outlier \n",
      "This element is not an outlier \n",
      "This element is not an outlier \n",
      "This element is not an outlier \n",
      "This element is not an outlier \n",
      "This element is not an outlier \n",
      "This element is not an outlier \n",
      "This element is not an outlier \n",
      "This element is not an outlier \n",
      "This element is not an outlier \n"
     ]
    }
   ],
   "source": [
    "outliers = []\n",
    "for i in lst_marks :\n",
    "    if i >= 1.5and i <= 141.5:\n",
    "        print('This element is not an outlier ')\n",
    "    else : \n",
    "        outliers.append(i)\n",
    "    "
   ]
  },
  {
   "cell_type": "code",
   "execution_count": 47,
   "id": "9f165a2a-8197-46c1-b6e0-39accc5b55b9",
   "metadata": {},
   "outputs": [
    {
     "data": {
      "text/plain": [
       "[1000, 1100]"
      ]
     },
     "execution_count": 47,
     "metadata": {},
     "output_type": "execute_result"
    }
   ],
   "source": [
    "outliers"
   ]
  },
  {
   "cell_type": "code",
   "execution_count": 48,
   "id": "08b6211c-ea23-4261-a7e4-3860541ca2d4",
   "metadata": {},
   "outputs": [],
   "source": [
    "import seaborn as sns"
   ]
  },
  {
   "cell_type": "code",
   "execution_count": 49,
   "id": "64acd3b5-2ec2-46e6-b066-41c2a4eead39",
   "metadata": {},
   "outputs": [
    {
     "data": {
      "text/plain": [
       "<AxesSubplot: >"
      ]
     },
     "execution_count": 49,
     "metadata": {},
     "output_type": "execute_result"
    },
    {
     "data": {
      "image/png": "[encoded data removed]",
      "text/plain": [
       "<Figure size 640x480 with 1 Axes>"
      ]
     },
     "metadata": {},
     "output_type": "display_data"
    }
   ],
   "source": [
    "sns.boxplot(lst_marks)"
   ]
  },
  {
   "cell_type": "code",
   "execution_count": 51,
   "id": "df8ce5a6-9d15-4e1f-9d7e-2a0ee9cbf900",
   "metadata": {},
   "outputs": [],
   "source": [
    "lst_marks = [45, 32, 56, 75, 89, 54, 32, 89, 90, 87, 67, 54, 45, 98, 67, 74]\n"
   ]
  },
  {
   "cell_type": "code",
   "execution_count": 52,
   "id": "5d9a56eb-9676-41e1-8494-6b0b4edcb4cb",
   "metadata": {},
   "outputs": [
    {
     "data": {
      "text/plain": [
       "<AxesSubplot: >"
      ]
     },
     "execution_count": 52,
     "metadata": {},
     "output_type": "execute_result"
    },
    {
     "data": {
      "image/png": "[encoded data removed]",
      "text/plain": [
       "<Figure size 640x480 with 1 Axes>"
      ]
     },
     "metadata": {},
     "output_type": "display_data"
    }
   ],
   "source": [
    "sns.boxplot(lst_marks)"
   ]
  },
  {
   "cell_type": "code",
   "execution_count": null,
   "id": "279a7600-0a99-4c1c-81b1-ec9337f85e6d",
   "metadata": {},
   "outputs": [],
   "source": []
  }
 ],
 "metadata": {
  "kernelspec": {
   "display_name": "Python 3 (ipykernel)",
   "language": "python",
   "name": "python3"
  },
  "language_info": {
   "codemirror_mode": {
    "name": "ipython",
    "version": 3
   },
   "file_extension": ".py",
   "mimetype": "text/x-python",
   "name": "python",
   "nbconvert_exporter": "python",
   "pygments_lexer": "ipython3",
   "version": "3.10.8"
  }
 },
 "nbformat": 4,
 "nbformat_minor": 5
}
